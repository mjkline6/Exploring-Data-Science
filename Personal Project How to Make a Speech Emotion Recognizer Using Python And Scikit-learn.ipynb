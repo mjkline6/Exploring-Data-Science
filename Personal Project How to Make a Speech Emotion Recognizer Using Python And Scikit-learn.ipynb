{
 "cells": [
  {
   "cell_type": "markdown",
   "metadata": {},
   "source": [
    "<h1 style=\"text-align:center; color:green\";> Applied Data Science </h1>\n",
    "<center>\n",
    "\n",
    "\n",
    "<h2 style=\"text-align:center; color:blue\";> Personal Project: Outligning and Creating A Speech Emotion Recognizer Using Python And Scikit-learn </h2>\n",
    "\n",
    "<h2 style=\"text-align:center; color:Black\";> Matthew Kline </h2>\n",
    "<h3 style=\"text-align:center; color:Black\";> 8/1/2021 </h3>\n",
    "\n",
    "<h4 style=\"text-align:left; color:orange\";> Building a Speech Emotion Recognition system that detects emotion from human speech tone using the Scikit-Learn library,Python and Librosa </h4>"
   ]
  },
  {
   "cell_type": "markdown",
   "metadata": {},
   "source": [
    "**What is Speech Emotion Recognition?**\n",
    "\n",
    "Speech Emotion Recognition, abbreviated as SER, is the act of attempting to recognize human emotion and affective states from speech.This is capitalizing on the fact that voice often reflects underlying emotion through tone and pitch. This is also the phenomenon thatanimals like dogs and horses employ to be able to understand human emotion.\n",
    "\n",
    "SER is tough because emotions are subjective and annotating audio is challenging."
   ]
  },
  {
   "cell_type": "markdown",
   "metadata": {},
   "source": [
    "**What is librosa?**\n",
    "\n",
    "librosa is a Python library for analyzing audio and music. It has a flatter package layout, standardizes interfaces and names, backwards compatibility, modular functions, and readable code. Further, in this Python mini-project, we demonstrate how to install it (and a few otherpackages) with pip.\n",
    "\n",
    "**What is JupyterLab?**"
   ]
  },
  {
   "cell_type": "markdown",
   "metadata": {},
   "source": [
    "JupyterLab which is an open-source, web-based UI for Project Jupyter and it has all basic functionalities of theJupyter Notebook, like notebooks, terminals, text editors, file browsers, rich outputs, and more. However, it also provides improvedsupport for third party extensions. It comes bubdled with the Anaconda Data Science Framework if you want to try it out, BUT you canjust keep using your Jupyter Notebook and all wii be fine.\n",
    "\n",
    "**Speech Emotion Recognition – Objective**\n",
    "\n",
    "To build a model to recognize emotion from speech using the librosa and sklearn libraries and the RAVDESS dataset.\n",
    "\n",
    "**Speech Emotion Recognition – About the Python Mini Project**\n",
    "\n",
    "In this Python mini project, we will use the libraries librosa, soundfile, and sklearn (among others) to build a model using anMLPClassifier. This will be able to recognize emotion from sound files. We will load the data, extract features from it, then split the datasetinto training and testing sets. Then, we’ll initialize an MLPClassifier and train the model. Finally, we’ll calculate the accuracy of our model.\n",
    "\n",
    "**The Dataset**\n",
    "\n",
    "For this Python mini project, I used the RAVDESS dataset; this is the Ryerson Audio-Visual Database of Emotional Speech and Song dataset, and is free to download. This dataset has 7356 files rated by 247 individuals 10 times on emotional validity, intensity, andgenuineness. The entire dataset is 24.8GB from 24 actors, but I have lowered the sample rate on all the files."
   ]
  },
  {
   "cell_type": "markdown",
   "metadata": {},
   "source": [
    "**File Summary**\n",
    "\n",
    "In total, the RAVDESS collection includes 7356 files (2880+2024+1440+1012 files).\n",
    "\n",
    "**File naming convention**\n",
    "\n",
    "Each of the 7356 RAVDESS files has a unique filename. The filename consists of a 7-part numerical identifier (e.g., 02-01-06-01-02-01-12.mp4). These identifiers define the stimulus characteristics:\n",
    "\n",
    "**Filename identifiers**\n",
    "\n",
    "-  Modality (01 = full-AV, 02 = video-only, 03 = audio-only).\n",
    "-  Vocal channel (01 = speech, 02 = song).\n",
    "-  Emotion (01 = neutral, 02 = calm, 03 = happy, 04 = sad, 05 = angry, 06 = fearful, 07 = disgust, 08 = surprised).\n",
    "-  Emotional intensity (01 = normal, 02 = strong). NOTE: There is no strong intensity for the 'neutral' emotion.\n",
    "-  Statement (01 = \"Kids are talking by the door\", 02 = \"Dogs are sitting by the door\").\n",
    "-  Repetition (01 = 1st repetition, 02 = 2nd repetition).\n",
    "-  Actor (01 to 24. Odd numbered actors are male, even numbered actors are female)."
   ]
  },
  {
   "cell_type": "markdown",
   "metadata": {},
   "source": [
    "- Video-only (02)\n",
    "- Speech (01)\n",
    "- Fearful (06)\n",
    "- Normal intensity (01)\n",
    "- Statement \"dogs\" (02)\n",
    "- 1st Repetition (01)\n",
    "- 12th Actor (12)\n",
    "- Female, as the actor ID number is even."
   ]
  },
  {
   "cell_type": "markdown",
   "metadata": {},
   "source": [
    "<h3>Prerequisites</h3>\n",
    "\n",
    "\n",
    "\n",
    "**pip installl** ibrosa soundfile numpy **sklearn** pyaudiousing_anaconda_terminal.png\n",
    "\n",
    "\n"
   ]
  },
  {
   "cell_type": "markdown",
   "metadata": {},
   "source": [
    "The whole pipeline is as follows (same as any machine learning pipeline):\n",
    "\n",
    "- Preparing the Dataset: Here, I downloaded and converted the dataset to be suited for extraction.\n",
    "- Loading the Dataset: This process is about loading the dataset in Python which involves extracting audio features, such as obtaining different features such as power, pitch and vocal tract configuration from the speech signal, I used librosa library to do that.\n",
    "- Training the Model: After I prepare and load the dataset, I simply train it on a suited sklearn model.\n",
    "- Testing the Model: Measuring how good my model is doing."
   ]
  },
  {
   "cell_type": "code",
   "execution_count": 1,
   "metadata": {},
   "outputs": [],
   "source": [
    "import soundfile # to read audio file\n",
    "import numpy as np\n",
    "import matplotlib.pyplot as plt\n",
    "import librosa# to extract speech features\n",
    "import glob\n",
    "import os \n",
    "import pickle# to save model after training\n",
    "from sklearn.model_selection import train_test_split# for splitting training and testing\n",
    "from sklearn.neural_network import MLPClassifier# multi-layer perceptron model\n",
    "from sklearn.metrics import accuracy_score# to measure how good we are"
   ]
  },
  {
   "cell_type": "markdown",
   "metadata": {},
   "source": [
    "1. Define a function extract_feature to extract the mfcc, chroma, and mel features from a sound file. This function takes 4 parameters-the file name and three Boolean parameters for the three features:\n",
    "2. mfcc: Mel Frequency Cepstral Coefficient, represents the short-term power spectrum of a sound\n",
    "3. chroma: Pertains to the 12 different pitch classes45. mel: Mel Spectrogram Frequency"
   ]
  },
  {
   "cell_type": "code",
   "execution_count": 2,
   "metadata": {},
   "outputs": [],
   "source": [
    "# Extract features (mfcc, chroma, mel) from a sound file\n",
    "def extract_feature(file_name, mfcc, chroma, mel):\n",
    "    with soundfile.SoundFile(file_name) as sound_file:\n",
    "        X = sound_file.read(dtype=\"float32\")\n",
    "        sample_rate=sound_file.samplerate\n",
    "        if chroma:\n",
    "            stft=np.abs(librosa.stft(X))\n",
    "            result=np.array([])\n",
    "        if mfcc:\n",
    "            mfccs=np.mean(librosa.feature.mfcc(y=X, sr=sample_rate, n_mfcc=40).T, axis=0)\n",
    "            result=np.hstack((result, mfccs))\n",
    "        if chroma:\n",
    "            chroma=np.mean(librosa.feature.chroma_stft(S=stft, sr=sample_rate).T,axis=0)\n",
    "            result=np.hstack((result, chroma))\n",
    "        if mel:\n",
    "            mel=np.mean(librosa.feature.melspectrogram(X, sr=sample_rate).T,axis=0)\n",
    "            result=np.hstack((result, mel))\n",
    "    return result"
   ]
  },
  {
   "cell_type": "markdown",
   "metadata": {},
   "source": [
    "3. Now, I define a dictionary to hold numbers and the emotions available in the RAVDESS dataset, and a list to hold those we wantcalm, happy, fearful, disgust.\n"
   ]
  },
  {
   "cell_type": "code",
   "execution_count": 3,
   "metadata": {},
   "outputs": [],
   "source": [
    "# Emotions in the RAVDESS dataset\n",
    "emotions={\n",
    " '01':'neutral',\n",
    " '02':'calm',\n",
    " '03':'happy',\n",
    " '04':'sad',\n",
    " '05':'angry',\n",
    " '06':'fearful',\n",
    " '07':'disgust',\n",
    " '08':'surprised'\n",
    "}\n",
    "# Emotions to observe\n",
    "observed_emotions=['calm', 'happy', 'fearful', 'disgust']"
   ]
  },
  {
   "cell_type": "markdown",
   "metadata": {},
   "source": [
    "4. Now, I load the data with a function load_data() – this takes in the relative size of the test set as parameter. x and y are empty\n",
    "lists; I use the glob() function from the glob module to get all the pathnames for the sound files in our dataset. The pattern we use\n",
    "for this is: **“ravdess-data\\Actor_\\.wav”**\n"
   ]
  },
  {
   "cell_type": "markdown",
   "metadata": {},
   "source": [
    "**So, for each such path, get the basename of the file, the emotion by splitting the name around ‘-’ and extracting the third\n",
    "value**"
   ]
  },
  {
   "cell_type": "code",
   "execution_count": 4,
   "metadata": {},
   "outputs": [],
   "source": [
    "# Load the data and extract features for each sound file\n",
    "def load_data(test_size=0.2):\n",
    "    x,y=[],[]\n",
    "    for file in glob.glob(\"ravdess-data\\\\Actor_*\\\\*.wav\"):\n",
    "        file_name=os.path.basename(file)\n",
    "        emotion=emotions[file_name.split(\"-\")[2]]\n",
    "        if emotion not in observed_emotions:\n",
    "            continue\n",
    "        feature=extract_feature(file, mfcc=True, chroma=True, mel=True)\n",
    "        x.append(feature)\n",
    "        y.append(emotion)\n",
    "    return train_test_split(np.array(x), y, test_size=test_size, random_state=9)"
   ]
  },
  {
   "cell_type": "markdown",
   "metadata": {},
   "source": [
    "<b>Using the emotions dictionary, this number is turned into an emotion, and my function checks whether this emotion is in the\n",
    "list of observed_emotions; if not, it continues to the next file. It makes a call to extract_feature and stores what is returned in\n",
    "‘feature’. Then, it appends the feature to x and the emotion to y. So, the list x holds the features and y holds the\n",
    "emotions.\n"
   ]
  },
  {
   "cell_type": "markdown",
   "metadata": {},
   "source": [
    "I call the function train_test_split with these, the test size, and a random state value, and return that.\n"
   ]
  },
  {
   "cell_type": "markdown",
   "metadata": {},
   "source": [
    "5. Time to split the dataset into training and testing sets! Let’s keep the test set 25% of everything and use the load_data function for\n",
    "this"
   ]
  },
  {
   "cell_type": "code",
   "execution_count": 5,
   "metadata": {},
   "outputs": [],
   "source": [
    "# Split the dataset\n",
    "x_train,x_test,y_train,y_test=load_data(test_size=0.25)"
   ]
  },
  {
   "cell_type": "markdown",
   "metadata": {},
   "source": [
    "6. Observe the shape of the training and testing datasets:\n"
   ]
  },
  {
   "cell_type": "code",
   "execution_count": 6,
   "metadata": {},
   "outputs": [
    {
     "name": "stdout",
     "output_type": "stream",
     "text": [
      "(576, 192)\n"
     ]
    }
   ],
   "source": [
    "# Get the shape of the training and testing datasets\n",
    "print((x_train.shape[0], x_test.shape[0]))"
   ]
  },
  {
   "cell_type": "markdown",
   "metadata": {},
   "source": [
    "7. And get the number of features extracted"
   ]
  },
  {
   "cell_type": "code",
   "execution_count": 7,
   "metadata": {},
   "outputs": [
    {
     "name": "stdout",
     "output_type": "stream",
     "text": [
      "Features extracted: 180\n"
     ]
    }
   ],
   "source": [
    "# Get the number of features extracted\n",
    "print(f'Features extracted: {x_train.shape[1]}')"
   ]
  },
  {
   "cell_type": "markdown",
   "metadata": {},
   "source": [
    "8. Now, I initialize an MLPClassifier. This is a Multi-layer Perceptron Classifier; it optimizes the log-loss function using different\n",
    "optimizers (lbfgs, adam or stochastic gradient descent). Recall that the MLPClassifier has an internal neural network for the purpose\n",
    "of classification, and is a feed-forward CNN model.\n",
    "\n",
    "I pretty much played around with the parmaeters of the MLPClassifier to get the best possible hyperparameters.\n"
   ]
  },
  {
   "cell_type": "code",
   "execution_count": 8,
   "metadata": {},
   "outputs": [],
   "source": [
    "# Initialize the Multi Layer Perceptron Classifier\n",
    "model=MLPClassifier(solver='adam', alpha=0.005, batch_size=200, epsilon=1e-08, hidden_layer_sizes=(400,),\n",
    "    learning_rate='adaptive', max_iter=700)\n"
   ]
  },
  {
   "cell_type": "markdown",
   "metadata": {},
   "source": [
    "9. Train the Model"
   ]
  },
  {
   "cell_type": "code",
   "execution_count": 9,
   "metadata": {},
   "outputs": [
    {
     "data": {
      "text/plain": [
       "MLPClassifier(activation='relu', alpha=0.005, batch_size=200, beta_1=0.9,\n",
       "              beta_2=0.999, early_stopping=False, epsilon=1e-08,\n",
       "              hidden_layer_sizes=(400,), learning_rate='adaptive',\n",
       "              learning_rate_init=0.001, max_iter=700, momentum=0.9,\n",
       "              n_iter_no_change=10, nesterovs_momentum=True, power_t=0.5,\n",
       "              random_state=None, shuffle=True, solver='adam', tol=0.0001,\n",
       "              validation_fraction=0.1, verbose=False, warm_start=False)"
      ]
     },
     "execution_count": 9,
     "metadata": {},
     "output_type": "execute_result"
    }
   ],
   "source": [
    "# Train the model\n",
    "model.fit(x_train,y_train)"
   ]
  },
  {
   "cell_type": "markdown",
   "metadata": {},
   "source": [
    "10. Plot the loss during training"
   ]
  },
  {
   "cell_type": "markdown",
   "metadata": {},
   "source": [
    "A loss function, also known as a cost function, takes into account the probabilities or uncertainty of a prediction based on how much the prediction varies from the true value. This gives us a more nuanced view into how well the model is performing\n",
    "\n",
    "Unlike accuracy, loss is not a percentage — it is a summation of the errors made for each sample in training or validation sets. Loss is\n",
    "often used in the training process to find the \"best\" parameter values for the model (e.g. weights in neural network). During the training\n",
    "process the goal is to minimize this value.\n",
    "|"
   ]
  },
  {
   "cell_type": "code",
   "execution_count": 10,
   "metadata": {},
   "outputs": [],
   "source": [
    "loss_values = model.loss_curve_"
   ]
  },
  {
   "cell_type": "code",
   "execution_count": 11,
   "metadata": {},
   "outputs": [
    {
     "data": {
      "image/png": "[encoded data removed]",
      "text/plain": [
       "<Figure size 432x288 with 1 Axes>"
      ]
     },
     "metadata": {
      "needs_background": "light"
     },
     "output_type": "display_data"
    }
   ],
   "source": [
    "fig = plt.figure(figsize=(6, 4))\n",
    "plt.plot(loss_values, color=\"red\", label = 'training loss')\n",
    "plt.xlabel('epoch')\n",
    "plt.ylabel('loss');\n",
    "#legend\n",
    "plt.legend(loc='upper right')\n",
    "#title\n",
    "plt.title('Training Loss Per Epoch: Speech Emotion Recognition')\n",
    "#show plot\n",
    "plt.show()"
   ]
  },
  {
   "cell_type": "markdown",
   "metadata": {},
   "source": [
    "11. **Model Predictions**\n",
    "Let’s predict the values for the test set. This gives us y_pred (the predicted emotions for the features in the test set).\n"
   ]
  },
  {
   "cell_type": "code",
   "execution_count": 12,
   "metadata": {},
   "outputs": [],
   "source": [
    "# Predict for the test set\n",
    "y_pred=model.predict(x_test)"
   ]
  },
  {
   "cell_type": "markdown",
   "metadata": {},
   "source": [
    "#### 12. **Model Performance**\n",
    "To calculate the accuracy of our model, we’ll call up the accuracy_score() function we imported from sklearn. Finally, we’ll round the\n",
    "accuracy to 2 decimal places and print it out"
   ]
  },
  {
   "cell_type": "code",
   "execution_count": 13,
   "metadata": {},
   "outputs": [
    {
     "name": "stdout",
     "output_type": "stream",
     "text": [
      "Accuracy: 75.52%\n"
     ]
    }
   ],
   "source": [
    "# Calculate the accuracy of my model\n",
    "accuracy=accuracy_score(y_true=y_test, y_pred=y_pred)\n",
    "# Print the accuracy\n",
    "print(\"Accuracy: {:.2f}%\".format(accuracy*100))\n"
   ]
  },
  {
   "cell_type": "code",
   "execution_count": 14,
   "metadata": {},
   "outputs": [
    {
     "name": "stdout",
     "output_type": "stream",
     "text": [
      "test set accurracy: 75.52 %\n"
     ]
    }
   ],
   "source": [
    "print('test set accurracy: {0:.2f} %'.format(100*model.score(x_test,y_test)))"
   ]
  },
  {
   "cell_type": "markdown",
   "metadata": {},
   "source": [
    "**Performance on a single waveform**"
   ]
  },
  {
   "cell_type": "code",
   "execution_count": 15,
   "metadata": {},
   "outputs": [
    {
     "name": "stdout",
     "output_type": "stream",
     "text": [
      "The predictied emotion from the speech is: disgust\n"
     ]
    }
   ],
   "source": [
    "print('The predictied emotion from the speech is: {}'\n",
    " .format(model.predict([x_test[22]])[0]))"
   ]
  },
  {
   "cell_type": "code",
   "execution_count": 16,
   "metadata": {},
   "outputs": [
    {
     "name": "stdout",
     "output_type": "stream",
     "text": [
      "The true emotion is: disgust\n"
     ]
    }
   ],
   "source": [
    "print('The true emotion is: {}'.format(y_test[22]))"
   ]
  },
  {
   "cell_type": "markdown",
   "metadata": {},
   "source": [
    "<h3>Pickle (serialize) and save the trained classifier to a folder"
   ]
  },
  {
   "cell_type": "code",
   "execution_count": 17,
   "metadata": {},
   "outputs": [],
   "source": [
    "# Serialization with Python's Pickle\n",
    "import pickle\n",
    "import os\n",
    "\n",
    "dest = os.path.join('classifiers', 'pkl_objects')\n",
    "if not os.path.exists(dest):\n",
    "    os.makedirs(dest)\n",
    "\n",
    "pickle.dump(model, open(os.path.join(dest, 'ser_classifier.pkl'), 'wb'), protocol=4)"
   ]
  },
  {
   "cell_type": "markdown",
   "metadata": {},
   "source": [
    "**Load the saved classifier into memory**\n"
   ]
  },
  {
   "cell_type": "code",
   "execution_count": 18,
   "metadata": {},
   "outputs": [],
   "source": [
    "# load the saved the trained classifier into memory\n",
    "import pickle\n",
    "import re\n",
    "import os\n",
    "os.chdir('classifiers')\n",
    "ser_model = pickle.load(open(os.path.join('pkl_objects', 'ser_classifier.pkl'), 'rb'))"
   ]
  },
  {
   "cell_type": "markdown",
   "metadata": {},
   "source": [
    "**Test the re-loaded model**"
   ]
  },
  {
   "cell_type": "code",
   "execution_count": 19,
   "metadata": {},
   "outputs": [
    {
     "name": "stdout",
     "output_type": "stream",
     "text": [
      "The reloaded model predicts the emotion from the speech is:calm\n"
     ]
    }
   ],
   "source": [
    "print('The reloaded model predicts the emotion from the speech is:{}'\n",
    " .format(ser_model.predict([x_test[33]])[0]))\n"
   ]
  },
  {
   "cell_type": "code",
   "execution_count": 20,
   "metadata": {},
   "outputs": [
    {
     "name": "stdout",
     "output_type": "stream",
     "text": [
      "The true emotion is: fearful\n"
     ]
    }
   ],
   "source": [
    "print('The true emotion is: {}'.format(y_test[33]))"
   ]
  },
  {
   "cell_type": "markdown",
   "metadata": {},
   "source": [
    "<h3>Summary</h3>\n",
    "\n",
    "In this Python, Machine Learning, Mini-Project, I learned to recognize emotions from speech. We used an MLPClassifier for the neural\n",
    "network and and made use of the soundfile library to read the sound file, and the librosa library to extract features from it.We also\n",
    "serialized the model and tested the reloaded model on unseen data and saw that it performed well. So, as you've seen, the model\n",
    "delivered an accuracy of 70-80%, which is not bad for our first attempt at building a speech emotion recognizer"
   ]
  }
 ],
 "metadata": {
  "accelerator": "GPU",
  "colab": {
   "collapsed_sections": [],
   "name": "Classification of MNIST with Scikit Learn.ipynb",
   "provenance": []
  },
  "kernelspec": {
   "display_name": "Python 3",
   "language": "python",
   "name": "python3"
  },
  "language_info": {
   "codemirror_mode": {
    "name": "ipython",
    "version": 3
   },
   "file_extension": ".py",
   "mimetype": "text/x-python",
   "name": "python",
   "nbconvert_exporter": "python",
   "pygments_lexer": "ipython3",
   "version": "3.7.4"
  }
 },
 "nbformat": 4,
 "nbformat_minor": 4
}
